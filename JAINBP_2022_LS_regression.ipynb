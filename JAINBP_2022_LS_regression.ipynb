{
  "nbformat": 4,
  "nbformat_minor": 0,
  "metadata": {
    "colab": {
      "provenance": [],
      "collapsed_sections": []
    },
    "kernelspec": {
      "name": "python3",
      "display_name": "Python 3"
    },
    "language_info": {
      "name": "python"
    },
    "gpuClass": "premium"
  },
  "cells": [
    {
      "cell_type": "code",
      "execution_count": null,
      "metadata": {
        "id": "KDpayEeqfsAe"
      },
      "outputs": [],
      "source": [
        "  # PyCaretのインストール\n",
        "%%capture\n",
        "!pip install pycaret\n",
        "\n",
        "# Notebookの中で複数の結果を表示できるようにする\n",
        "from IPython import InteractiveShell\n",
        "InteractiveShell.ast_node_interactivity = \"all\" "
      ]
    },
    {
      "cell_type": "code",
      "source": [
        "# 必要なライブラリのインポート\n",
        "from pycaret.regression import *\n",
        "from google.colab import drive\n",
        "import pandas as pd\n",
        "import pickle\n",
        "\n",
        "pd.set_option('display.max_columns', 150)\n",
        "\n",
        "# データの読み込み\n",
        "path = '/content/drive/MyDrive/Colaboratory/JAINBP_2022/'\n",
        "file_name = 'df_for_pycaret.pickle'\n",
        "with open(path + file_name, 'rb') as f:\n",
        "    df = pickle.load(f)\n",
        "\n",
        "# データフレームの確認\n",
        "df.head()"
      ],
      "metadata": {
        "id": "eRkCVjXhf1C9"
      },
      "execution_count": null,
      "outputs": []
    },
    {
      "cell_type": "code",
      "source": [
        "# 解析データの作成\n",
        "## 不要な列の削除\n",
        "## タイムポイント1～3のデータから，タイムポイント4のHgbの予測をしたい．\n",
        "## タイムポイント4のHgb以外のデータを削除\n",
        "col_n_base = ['WBC', 'RBC', 'Ht', 'MCV', 'MCH', 'MCHC', 'RDW', 'Alb', 'CRP', 'TSAT', 'Fer', \n",
        "          'eqESA_dose', 'Fe_dose', 'ESA_change', 'Fe_change']\n",
        "col_n_remove = [x + '_4' for x in col_n_base]\n",
        "df_hgb = df\n",
        "for col_rm in col_n_remove:\n",
        "    df_hgb = df_hgb.drop(col_rm, axis = 1)\n",
        "print('タイムポイント4の検査データ削除後の列名一覧')\n",
        "df_hgb.columns"
      ],
      "metadata": {
        "id": "7OXdkcsvgFWu"
      },
      "execution_count": null,
      "outputs": []
    },
    {
      "cell_type": "code",
      "source": [
        "# データの前処理\n",
        "exp1 = setup(df_hgb, target = 'Hgb_4')"
      ],
      "metadata": {
        "id": "HnX1AES4hv-A"
      },
      "execution_count": null,
      "outputs": []
    },
    {
      "cell_type": "code",
      "source": [
        "# 各機械学習手法のperformance比較\n",
        "compare_models()"
      ],
      "metadata": {
        "id": "fLekKDspjZDH"
      },
      "execution_count": null,
      "outputs": []
    },
    {
      "cell_type": "code",
      "source": [
        "br = create_model('br')"
      ],
      "metadata": {
        "id": "2S4VqROVjxuc"
      },
      "execution_count": null,
      "outputs": []
    },
    {
      "cell_type": "code",
      "source": [
        "evaluate_model(br)"
      ],
      "metadata": {
        "id": "b3e4XxOJj22c"
      },
      "execution_count": null,
      "outputs": []
    },
    {
      "cell_type": "code",
      "source": [
        "tuned_br = tune_model(br)"
      ],
      "metadata": {
        "id": "bDj-JjwYmL_f"
      },
      "execution_count": null,
      "outputs": []
    },
    {
      "cell_type": "code",
      "source": [
        "evaluate_model(tuned_br)"
      ],
      "metadata": {
        "id": "U8H3qA_HmzuZ"
      },
      "execution_count": null,
      "outputs": []
    },
    {
      "cell_type": "code",
      "source": [
        "result = predict_model(tuned_br, data = df_hgb)\n",
        "result[:10]"
      ],
      "metadata": {
        "id": "J9mOpMtTnAAq"
      },
      "execution_count": null,
      "outputs": []
    }
  ]
}