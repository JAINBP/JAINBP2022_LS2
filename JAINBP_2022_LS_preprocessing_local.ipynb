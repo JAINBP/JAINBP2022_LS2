{
 "cells": [
  {
   "cell_type": "markdown",
   "metadata": {},
   "source": [
    "# 必要なライブラリのインポート"
   ]
  },
  {
   "cell_type": "code",
   "execution_count": 12,
   "metadata": {},
   "outputs": [],
   "source": [
    "import pickle\n",
    "import numpy as np\n",
    "import pandas as pd\n",
    "\n",
    "# Notebookの中で複数の結果を表示できるようにする\n",
    "from IPython import InteractiveShell\n",
    "InteractiveShell.ast_node_interactivity = \"all\" "
   ]
  },
  {
   "cell_type": "markdown",
   "metadata": {},
   "source": [
    "# 関数定義"
   ]
  },
  {
   "cell_type": "code",
   "execution_count": 13,
   "metadata": {
    "code_folding": [
     20
    ]
   },
   "outputs": [],
   "source": [
    "# リストを入力，リストの項目で同じ項目をカウント，個数の降順にソート\n",
    "def count_items(in_list):\n",
    "    out_dict = {}\n",
    "    for d in in_list:\n",
    "        if d not in out_dict.keys():\n",
    "            out_dict[d] = 1\n",
    "        else:\n",
    "            out_dict[d] += 1\n",
    "    out_list = sorted([[x, out_dict[x]] for x in list(out_dict.keys())], key = lambda x: x[1], reverse = True)\n",
    "    return out_list\n",
    "\n",
    "# Future Net Webの日付データ(タイムスタンプデータとして入力)から，yyyymm形式の年月データに変換\n",
    "def ts_ym(ts_in):\n",
    "    year = str(ts_in.year)\n",
    "    month = ('0' + str(ts_in.month))[-2:]\n",
    "    return year + month\n",
    "\n",
    "# リスト中の要素のNaN (数字ではないデータ)を除去（NaNが浮動小数点データであることを利用)\n",
    "def rem_nan(in_list):\n",
    "    out_list = []\n",
    "    for i in in_list:\n",
    "        if type(i) == str:\n",
    "            out_list.append(i)\n",
    "    return out_list\n",
    "\n",
    "# リストの中に含まれる，ESA，鉄，HIF-PHIについて[Epo, DA, CERA, HIF, Fe]の形で用量を抽出\n",
    "# 例：「ｴﾎﾟｼﾞﾝ注3000単位/0.5mL」\n",
    "#  →「注」で分割，2つ目の要素を更に「単」で分割，１つ目の要素を整数に変換\n",
    "\n",
    "def esa_fe_sum(in_list):\n",
    "    esa_fe = [0, 0, 0, 0, 0]\n",
    "    for in_d in in_list:\n",
    "        if in_d[:6] == 'ｴﾎﾟｼﾞﾝ':\n",
    "            esa_fe[0] += int(in_d.split('注')[1].split('単')[0])\n",
    "        if in_d[:4] == 'ﾈｽﾌﾟ':\n",
    "            esa_fe[1] += int(in_d.split('用')[1].split('μ')[0])\n",
    "        if in_d[:6] == '注）ﾈｽﾌﾟ':\n",
    "            esa_fe[1] += int(in_d.split('〔')[1].split('〕')[0])\n",
    "        if in_d[:4] == 'ﾐﾙｾﾗ':\n",
    "            esa_fe[2] += int(in_d.split('ﾞ')[1].split('μ')[0])\n",
    "        if in_d.find('ﾌｪｼﾞﾝ') != -1:\n",
    "            if in_d.find('静注') != -1:\n",
    "                esa_fe[4] += int(in_d.split('注')[1].split('m')[0])\n",
    "            else:\n",
    "                esa_fe[4] += int(in_d.split('ﾝ')[1].split('m')[0])\n",
    "    return esa_fe"
   ]
  },
  {
   "cell_type": "markdown",
   "metadata": {},
   "source": [
    "# エクセルファイル読み込み→DataFrame"
   ]
  },
  {
   "cell_type": "code",
   "execution_count": 11,
   "metadata": {},
   "outputs": [],
   "source": [
    "# IDは暗号化してあり，それぞれのエクセルファイルで共通\n",
    "path = 'ここに，エクセルファイルがあるパスを，例えば，windowsなら，c:/Users/NAME/Documents/のような形で記載'\n",
    "\n",
    "# 治療経過(Future Net Webからの出力データ)\n",
    "# 各列のデータ['ID', '入外', '透析日', '透析予定時間(分)', 'ＤＷ(Kg)', '前回体重(Kg)', '前体重(Kg)',\n",
    "#       '後体重(Kg)', '体重変化', '透析前最高血圧(mmHg)', '透析前最低血圧(mmHg)', '透析前平均血圧(mmHg)',\n",
    "#       '透析後最高血圧(mmHg)', '透析後最低血圧(mmHg)', '透析後平均血圧(mmHg)', '再循環率', 'ダイアライザ名称',\n",
    "#       '血流量(mL/min)', '抗凝固剤名称', '透析液名称', '補液名称', '消耗品4', '消耗品5', '消耗品6',\n",
    "#       '消耗品7', '薬剤1', '薬剤2', '薬剤3', '薬剤4', '薬剤5', '薬剤6', '薬剤7', '薬剤8', '薬剤9',\n",
    "#       '薬剤10', '薬剤11', '薬剤12', '薬剤13', '薬剤14', '薬剤15', '薬剤16', '薬剤17', '薬剤18',\n",
    "#       '薬剤19', '薬剤20']\n",
    "course_df = pd.read_excel(path + 'course_encrypted.xlsx')\n",
    "\n",
    "# 検査データ(診療データ抽出データ)\n",
    "# 各列のデータ['ID', '日付', 'WBC', 'RBC', 'Hgb', 'Ht', 'MCV', 'MCH', 'MCHC', 'RDW', 'Alb', 'CRP', 'TSAT', 'Ferritin']\n",
    "ld_df = pd.read_excel(path + 'labo_data_encrypted.xlsx')\n",
    "\n",
    "# それぞれのデータフレームの表示\n",
    "course_df.columns\n",
    "course_df.head()\n",
    "\n",
    "ld_df.columns\n",
    "ld_df.head()"
   ]
  },
  {
   "cell_type": "markdown",
   "metadata": {},
   "source": [
    "# 月ごと注射データの抽出"
   ]
  },
  {
   "cell_type": "code",
   "execution_count": 10,
   "metadata": {},
   "outputs": [],
   "source": [
    "# 治療経過のデータフレームをリストに変換(本来はpandas上で行うべきですが)\n",
    "course_list = course_df.to_numpy().tolist()\n",
    "names = course_df.columns.to_list()\n",
    "\n",
    "# IDと年月をキーとした辞書形式で，\n",
    "# 月ごとに，注射が投与された治療回数と，投与された薬剤の名称・種類・用量をリストに作成\n",
    "\n",
    "out_dict = {}\n",
    "for l in course_list:\n",
    "    if str(l[0]) in out_dict.keys():\n",
    "        if ts_ym(l[2]) in out_dict[str(l[0])].keys():\n",
    "            out_dict[str(l[0])][ts_ym(l[2])][1] += rem_nan(l[25:45])\n",
    "            out_dict[str(l[0])][ts_ym(l[2])][0] += 1\n",
    "        else:\n",
    "            out_dict[str(l[0])][ts_ym(l[2])] = [1, rem_nan(l[25:45])]\n",
    "    else:\n",
    "        out_dict[str(l[0])] = {ts_ym(l[2]): [1, rem_nan(l[25:45])]}\n",
    "\n",
    "# 一つ目のデータを表示\n",
    "k_1st = list(out_dict.keys())[0]\n",
    "print(k_1st, out_dict[k_1st])"
   ]
  },
  {
   "cell_type": "markdown",
   "metadata": {},
   "source": [
    "# 投与薬剤の文字列からESA, Feの投与量の総和を算出"
   ]
  },
  {
   "cell_type": "code",
   "execution_count": 9,
   "metadata": {},
   "outputs": [],
   "source": [
    "# 関数esa_fe_sum()を使用して，ESA，Feの投与量の月ごとの合計を算出\n",
    "\n",
    "out_dict_sum = {}\n",
    "for k in out_dict.keys():\n",
    "    for ym in out_dict[k].keys():\n",
    "        data_ym = out_dict[k][ym]\n",
    "        if k not in out_dict_sum.keys():\n",
    "            out_dict_sum[k] = {ym : [data_ym[0], esa_fe_sum(data_ym[1])]}\n",
    "        else:\n",
    "            out_dict_sum[k][ym] = [data_ym[0], esa_fe_sum(data_ym[1])]\n",
    "            \n",
    "print(k_1st, out_dict_sum[k_1st])"
   ]
  },
  {
   "cell_type": "markdown",
   "metadata": {},
   "source": [
    "# 検査データ"
   ]
  },
  {
   "cell_type": "code",
   "execution_count": 7,
   "metadata": {},
   "outputs": [],
   "source": [
    "# 一人の患者の１カ月ごとのデータを一つの要素としたリストにまとめる．\n",
    "\n",
    "ld_list_tsat = ld_df.dropna(subset = ['TSAT']).to_numpy().tolist()\n",
    "ld_list_out = [[str(d[0]), ts_ym(d[1])] + d[2:]         # ID, yyyymm, 検査データ系列\n",
    "               + [out_dict_sum[d[0]][ts_ym(d[1])][0]]   # 投与量総和の辞書から，ID, 年月をキーにして投薬回数を抽出→結合\n",
    "               + out_dict_sum[d[0]][ts_ym(d[1])][1]     # 実際の投与量のリストを結合\n",
    "                  for d in ld_list_tsat]\n",
    "print(ld_list_out[:2])\n",
    "\n",
    "# 検査データが10件以上ある患者のIDリスト\n",
    "ids_selected = sorted([y[0] for y in count_items([x[0] for x in ld_list_out]) if y[1] > 10])\n",
    "\n",
    "# 検査データが10件以上ある患者のデータを古い順にリスト化\n",
    "labdata_by_pt = []\n",
    "for i in ids_selected:\n",
    "    temp_list = []\n",
    "    for d in ld_list_out:\n",
    "        if d[0] == i:\n",
    "            temp_list.append(d)\n",
    "    labdata_by_pt.append(sorted(temp_list, key = lambda x: x[1]))\n",
    "print(labdata_by_pt[0])"
   ]
  },
  {
   "cell_type": "code",
   "execution_count": 6,
   "metadata": {},
   "outputs": [],
   "source": [
    "# ESAを等価量に変換(Epo/(DA or CERA) = 250)してESA量を１データにまとめる．\n",
    "#['ID', '白血球数', '赤血球数', 'ﾍﾓｸﾞﾛﾋﾞﾝ', 'ﾍﾏﾄｸﾘｯﾄ', 'MCV', 'MCH', 'MCHC', 'RDW', \n",
    "#'ｱﾙﾌﾞﾐﾝ', 'CRP定量', 'TSAT', 'ﾌｪﾘﾁﾝ', 'eqESA_dose', 'Fe_dose']\n",
    "\n",
    "data_eq_esa = []\n",
    "for dd in labdata_by_pt:\n",
    "    pt_data = [[d[0]] + d[2:14] \n",
    "               + [d[15] + (d[16] + d[17])*250]  # ESA等価量\n",
    "               + [d[19]] # 鉄剤総量\n",
    "               for d in dd]\n",
    "    data_eq_esa.append(pt_data)\n",
    "print(data_eq_esa[0][0])"
   ]
  },
  {
   "cell_type": "markdown",
   "metadata": {},
   "source": [
    "## 関数定義"
   ]
  },
  {
   "cell_type": "code",
   "execution_count": 19,
   "metadata": {
    "code_folding": []
   },
   "outputs": [],
   "source": [
    "# 隣り合うリストの要素間でのデータの差分計算\n",
    "def diff_data(num, data_in, col, start_pos):\n",
    "    ret_list = []\n",
    "    start_data = data_in[start_pos][col]\n",
    "    for j in range(num):\n",
    "        ret_list += [data_in[start_pos + j + 1][col] - start_data]\n",
    "    return ret_list\n",
    "\n",
    "# 数値の符号を算出（マイナス→ -1，プラス → 1)\n",
    "def plus_minus(data_value):\n",
    "    if data_value == 0:\n",
    "        return 0\n",
    "    else:\n",
    "        return int(data_value/abs(data_value))\n",
    "\n",
    "# 隣り合う複数個のリストの要素をまとめる([1月のHgb，2月のHgb，3月のHgb])，NaNも除去\n",
    "def extract_data(num, data_in, cols, start_pos):\n",
    "    ret_list = [[] for i in range(len(cols))]\n",
    "    for j in range(num):\n",
    "        for i, col in enumerate(cols):\n",
    "            value_append = data_in[start_pos + j][col]\n",
    "            if type(value_append) == str:\n",
    "                ret_list[i] += [value_append]\n",
    "            elif not np.isnan(value_append):\n",
    "                ret_list[i] += [value_append]\n",
    "            else:\n",
    "                ret_list = False\n",
    "                break\n",
    "        if not ret_list:\n",
    "            break\n",
    "    return ret_list"
   ]
  },
  {
   "cell_type": "code",
   "execution_count": 5,
   "metadata": {},
   "outputs": [],
   "source": [
    "# ESA，鉄の先月との増減を最後に追加\n",
    "data_with_diff = []\n",
    "for pt in data_eq_esa:\n",
    "    temp_list = []\n",
    "    for i in range(len(pt)-1):\n",
    "        temp_list += [pt[i+1] + [plus_minus(diff_data(1, pt, 13, i)[0]), plus_minus(diff_data(1, pt, 14, i)[0])]]\n",
    "    data_with_diff += [temp_list]\n",
    "print(len(data_with_diff))\n",
    "print(data_with_diff[0][0])"
   ]
  },
  {
   "cell_type": "code",
   "execution_count": 4,
   "metadata": {},
   "outputs": [],
   "source": [
    "# 連続する4か月分のデータを検査項目ごとにまとめる\n",
    "\n",
    "col_n = [1, 2, 3, 4, 5, 6, 7, 8, 9, 10, 11, 12, 13, 14, 15, 16]\n",
    "data_to_analyze = []\n",
    "for pt in data_with_diff:\n",
    "    for j in range(len(pt) - 4):\n",
    "        value_append = extract_data(4, pt, col_n, j)\n",
    "        if value_append:\n",
    "            data_to_analyze += [value_append]\n",
    "\n",
    "print(len(data_to_analyze))\n",
    "print(data_to_analyze[0])"
   ]
  },
  {
   "cell_type": "code",
   "execution_count": 3,
   "metadata": {},
   "outputs": [],
   "source": [
    "# 各データを１次元につなげる\n",
    "data_to_analyze_flat = []\n",
    "for dd in data_to_analyze:\n",
    "    temp_list = []\n",
    "    for d in dd:\n",
    "        temp_list += d\n",
    "    data_to_analyze_flat.append(temp_list)\n",
    "\n",
    "print(data_to_analyze_flat[0])"
   ]
  },
  {
   "cell_type": "code",
   "execution_count": 2,
   "metadata": {},
   "outputs": [],
   "source": [
    "# 列名の作成\n",
    "col_n_base = ['WBC', 'RBC', 'Hgb', 'Ht', 'MCV', 'MCH', 'MCHC', 'RDW', 'Alb', 'CRP', 'TSAT', 'Fer', \n",
    "          'eqESA_dose', 'Fe_dose', 'ESA_change', 'Fe_change']\n",
    "col_names = []\n",
    "for c in col_n_base:\n",
    "    for i in range(4):\n",
    "        col_names += [c + '_' + str(i + 1)]\n",
    "\n",
    "# データフレームに変換\n",
    "df = pd.DataFrame(data_to_analyze_flat, columns = col_names)\n",
    "df.head()\n",
    "\n",
    "# pickle形式で保存\n",
    "with open(path + 'df_for_pycaret.pickle', 'wb') as f:\n",
    "    pickle.dump(df, f)"
   ]
  }
 ],
 "metadata": {
  "kernelspec": {
   "display_name": "Python 3",
   "language": "python",
   "name": "python3"
  },
  "language_info": {
   "codemirror_mode": {
    "name": "ipython",
    "version": 3
   },
   "file_extension": ".py",
   "mimetype": "text/x-python",
   "name": "python",
   "nbconvert_exporter": "python",
   "pygments_lexer": "ipython3",
   "version": "3.8.1"
  },
  "toc": {
   "base_numbering": 1,
   "nav_menu": {},
   "number_sections": true,
   "sideBar": true,
   "skip_h1_title": false,
   "title_cell": "Table of Contents",
   "title_sidebar": "Contents",
   "toc_cell": false,
   "toc_position": {
    "height": "calc(100% - 180px)",
    "left": "10px",
    "top": "150px",
    "width": "303.837px"
   },
   "toc_section_display": true,
   "toc_window_display": true
  }
 },
 "nbformat": 4,
 "nbformat_minor": 5
}
