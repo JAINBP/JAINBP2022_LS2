{
  "nbformat": 4,
  "nbformat_minor": 0,
  "metadata": {
    "colab": {
      "provenance": [],
      "collapsed_sections": []
    },
    "kernelspec": {
      "name": "python3",
      "display_name": "Python 3"
    },
    "language_info": {
      "name": "python"
    },
    "gpuClass": "premium"
  },
  "cells": [
    {
      "cell_type": "code",
      "execution_count": null,
      "metadata": {
        "id": "KDpayEeqfsAe"
      },
      "outputs": [],
      "source": [
        "# PyCaretのインストール\n",
        "%%capture\n",
        "!pip install pycaret\n",
        "\n",
        "# Notebookの中で複数の結果を表示できるようにする\n",
        "from IPython import InteractiveShell\n",
        "InteractiveShell.ast_node_interactivity = \"all\" "
      ]
    },
    {
      "cell_type": "code",
      "source": [
        "# 必要なライブラリのインポート\n",
        "from pycaret.classification import *\n",
        "from google.colab import drive\n",
        "import pandas as pd\n",
        "import pickle\n",
        "\n",
        "pd.set_option('display.max_columns', 150)\n",
        "# データの読み込み\n",
        "path = '/content/drive/MyDrive/Colaboratory/JAINBP_2022/'\n",
        "file_name = 'df_for_pycaret.pickle'\n",
        "with open(path + file_name, 'rb') as f:\n",
        "    df = pickle.load(f)\n",
        "\n",
        "# データフレームの確認\n",
        "df.head()"
      ],
      "metadata": {
        "id": "eRkCVjXhf1C9"
      },
      "execution_count": 1,
      "outputs": []
    },
    {
      "cell_type": "code",
      "source": [
        "# 解析データの作成\n",
        "## 不要な列の削除\n",
        "## タイムポイント1～3のデータから，\n",
        "## タイムポイント4のESA・鉄の投与量の変化を予測をしたい．\n",
        "## ↓\n",
        "## タイムポイント4の検査データを削除\n",
        "col_names_base = ['WBC', 'RBC', 'Hgb', 'Ht', 'MCV', 'MCH', 'MCHC', 'RDW', \n",
        "              'Alb', 'CRP',\n",
        "              'TSAT', 'Fer', 'eqESA_dose', 'Fe_dose']\n",
        "col_names_remove = [x + '_4' for x in col_names_base]\n",
        "df_rem_col = df\n",
        "for col_name_remove in col_names_remove:\n",
        "    df_rem_col = df_rem_col.drop(col_name_remove, axis = 1)\n",
        "print('タイムポイント4の検査データ削除後の列名一覧')\n",
        "df_rem_col.columns\n",
        "\n",
        "# 鉄の予測→タイムポイント4のESA投与量変化を除去\n",
        "df_fe = df_rem_col.drop('ESA_change_4', axis = 1)\n",
        "print('\\n'*2 + 'タイムポイント4のESA投与量変化データ削除後の列名一覧')\n",
        "df_fe.columns\n",
        "\n",
        "# ESAの予測→タイムポイント4の鉄投与量変化を除去\n",
        "df_esa = df_rem_col.drop('Fe_change_4', axis = 1)\n",
        "print('\\n'*2 + 'タイムポイント4の鉄投与量変化データ削除後の列名一覧')\n",
        "df_esa.columns"
      ],
      "metadata": {
        "id": "7OXdkcsvgFWu"
      },
      "execution_count": 2,
      "outputs": []
    },
    {
      "cell_type": "code",
      "source": [
        "# データの前処理\n",
        "exp1 = setup(df_fe, session_id = 0, target = 'Fe_change_4')"
      ],
      "metadata": {
        "id": "HnX1AES4hv-A"
      },
      "execution_count": 3,
      "outputs": []
    },
    {
      "cell_type": "code",
      "source": [
        "# 各機械学習手法のperformance比較\n",
        "compare_models()"
      ],
      "metadata": {
        "id": "fLekKDspjZDH"
      },
      "execution_count": 4,
      "outputs": []
    },
    {
      "cell_type": "code",
      "source": [
        "# 個別のモデルを作成する\n",
        "model_created = create_model('et')"
      ],
      "metadata": {
        "id": "2S4VqROVjxuc"
      },
      "execution_count": 5,
      "outputs": []
    },
    {
      "cell_type": "code",
      "source": [
        "# モデルの評価を行う（様々な指標：confusion matrix，feature importance plot...)\n",
        "evaluate_model(model_created)"
      ],
      "metadata": {
        "id": "b3e4XxOJj22c"
      },
      "execution_count": 6,
      "outputs": []
    },
    {
      "cell_type": "code",
      "source": [
        "# モデルのチューニング（ハイパーパラメータの調整）\n",
        "tuned_model = tune_model(model_created)"
      ],
      "metadata": {
        "id": "bDj-JjwYmL_f"
      },
      "execution_count": 7,
      "outputs": []
    },
    {
      "cell_type": "code",
      "source": [
        "# チューニングされたモデルの評価\n",
        "evaluate_model(tuned_model)"
      ],
      "metadata": {
        "id": "U8H3qA_HmzuZ"
      },
      "execution_count": 8,
      "outputs": []
    },
    {
      "cell_type": "code",
      "source": [
        "# 作成されたモデルで値を予測→鉄減量(Labe == -1)と予測されたデータを10件表示\n",
        "result = predict_model(model_created, data = df_fe)\n",
        "result[result['Label'] == -1][:10]"
      ],
      "metadata": {
        "id": "J9mOpMtTnAAq"
      },
      "execution_count": 9,
      "outputs": []
    },
    {
      "cell_type": "code",
      "source": [
        "# 作成されたモデルで値を予測→鉄増量(Labe == 1)と予測されたデータを10件表示\n",
        "result = predict_model(tuned_model, data = df_fe)\n",
        "result[result['Label'] == 1][:10]"
      ],
      "metadata": {
        "id": "mWPC343yqEDB"
      },
      "execution_count": 10,
      "outputs": []
    }
  ]
}